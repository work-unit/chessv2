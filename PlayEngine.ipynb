{
 "cells": [
  {
   "cell_type": "markdown",
   "metadata": {},
   "source": [
    "# Play The Trained Chess Engine!"
   ]
  },
  {
   "cell_type": "markdown",
   "metadata": {},
   "source": [
    "### Importing dependencies"
   ]
  },
  {
   "cell_type": "code",
   "execution_count": null,
   "metadata": {},
   "outputs": [],
   "source": [
    "import numpy as np\n",
    "import pandas as pd\n",
    "import chess\n",
    "import operator\n",
    "import chess.pgn\n",
    "from joblib import dump, load\n",
    "from ChessFunctions import get_encoded_board, flatten_board, recommend_move\n",
    "import dask\n",
    "from distributed import Client\n",
    "import warnings\n",
    "warnings.filterwarnings(\"ignore\")"
   ]
  },
  {
   "cell_type": "markdown",
   "metadata": {},
   "source": [
    "### Loading in trained model from Chess_Engine_Network.ipynb output"
   ]
  },
  {
   "cell_type": "code",
   "execution_count": null,
   "metadata": {},
   "outputs": [],
   "source": [
    "clf = load('FinalModel.joblib') "
   ]
  },
  {
   "cell_type": "markdown",
   "metadata": {},
   "source": [
    "### Initializes and displays a chess board"
   ]
  },
  {
   "cell_type": "code",
   "execution_count": null,
   "metadata": {},
   "outputs": [],
   "source": [
    "board = chess.Board()"
   ]
  },
  {
   "cell_type": "code",
   "execution_count": null,
   "metadata": {},
   "outputs": [],
   "source": [
    "display(board)"
   ]
  },
  {
   "cell_type": "markdown",
   "metadata": {},
   "source": [
    "### Play the computer here, requires user input"
   ]
  },
  {
   "cell_type": "code",
   "execution_count": null,
   "metadata": {},
   "outputs": [],
   "source": [
    "counter = 0\n",
    "\n",
    "while True:\n",
    "    if len(list(board.legal_moves)) > 0:\n",
    "        try:\n",
    "            if counter % 2 == 0: # White move\n",
    "                user_move = input('Enter your move (i.e. e2e4, q to quit):')\n",
    "                if user_move == 'q':\n",
    "                    break\n",
    "                board.push_san(user_move)\n",
    "            else: # Black move\n",
    "                recommendation = recommend_move(board, max_level=3)\n",
    "                move = recommendation['move']\n",
    "                stats = recommendation['stats']\n",
    "                board.push_san(move)\n",
    "                print(stats)\n",
    "            print('Move', counter + 1)\n",
    "            display(board)\n",
    "            counter += 1\n",
    "\n",
    "        except:\n",
    "            print('Illegal Move')\n",
    "    else:\n",
    "        print('GAME OVER.')"
   ]
  },
  {
   "cell_type": "code",
   "execution_count": null,
   "metadata": {},
   "outputs": [],
   "source": []
  }
 ],
 "metadata": {
  "kernelspec": {
   "display_name": "Python 3",
   "language": "python",
   "name": "python3"
  },
  "language_info": {
   "codemirror_mode": {
    "name": "ipython",
    "version": 3
   },
   "file_extension": ".py",
   "mimetype": "text/x-python",
   "name": "python",
   "nbconvert_exporter": "python",
   "pygments_lexer": "ipython3",
   "version": "3.8.5"
  }
 },
 "nbformat": 4,
 "nbformat_minor": 4
}
