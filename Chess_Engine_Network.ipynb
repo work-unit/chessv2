{
 "cells": [
  {
   "cell_type": "code",
   "execution_count": null,
   "metadata": {},
   "outputs": [],
   "source": [
    "!pip install chess\n",
    "!pip install tqdm"
   ]
  },
  {
   "cell_type": "code",
   "execution_count": 2,
   "metadata": {},
   "outputs": [],
   "source": [
    "# !conda list"
   ]
  },
  {
   "cell_type": "code",
   "execution_count": 3,
   "metadata": {},
   "outputs": [],
   "source": [
    "!conda env export --name dask-tutorial > grandmaster.yml"
   ]
  },
  {
   "cell_type": "code",
   "execution_count": null,
   "metadata": {
    "colab": {
     "base_uri": "https://localhost:8080/"
    },
    "id": "d1FIxLY--BtT",
    "outputId": "34763dd2-ae69-4891-ea4b-048795092911"
   },
   "outputs": [],
   "source": [
    "import numpy as np\n",
    "import pandas as pd\n",
    "import chess\n",
    "import chess.pgn\n",
    "from ChessFunctions import get_encoded_board, flatten_board\n",
    "from tqdm import tqdm\n",
    "import dask\n",
    "from dask_ml.model_selection import train_test_split as d_train_test_split\n",
    "from dask_ml.model_selection import GridSearchCV as d_GridSearchCV\n",
    "import dask.dataframe as dd\n",
    "import dask.array as da\n",
    "from dask import delayed\n",
    "import joblib"
   ]
  },
  {
   "cell_type": "code",
   "execution_count": null,
   "metadata": {},
   "outputs": [],
   "source": [
    "GAME_COUNT = 10"
   ]
  },
  {
   "cell_type": "code",
   "execution_count": null,
   "metadata": {},
   "outputs": [],
   "source": [
    "from dask.distributed import Client, progress\n",
    "client = Client()\n",
    "client"
   ]
  },
  {
   "cell_type": "code",
   "execution_count": null,
   "metadata": {
    "id": "LLHjm8dR-EMC"
   },
   "outputs": [],
   "source": [
    "f = open('lichess_elite_2020-06.pgn')"
   ]
  },
  {
   "cell_type": "code",
   "execution_count": null,
   "metadata": {
    "id": "yaGs0GSdACHl"
   },
   "outputs": [],
   "source": [
    "%%time \n",
    "my_list = []\n",
    "Y_labels = []\n",
    "for i in tqdm(range(GAME_COUNT)):\n",
    "# while True:\n",
    "    game = chess.pgn.read_game(f)\n",
    "    if game is None:\n",
    "        break  # end of file\n",
    "    my_list.append(game)"
   ]
  },
  {
   "cell_type": "code",
   "execution_count": null,
   "metadata": {},
   "outputs": [],
   "source": [
    "def game_to_df(game):\n",
    "    #if game.headers['Termination']=='Normal':\n",
    "    board = game.board() \n",
    "    board_state = [flatten_board(board)]\n",
    "    for move in game.mainline_moves():\n",
    "        board.push(move)\n",
    "        board_state = np.row_stack((board_state,flatten_board(board)))\n",
    "    df = pd.DataFrame(board_state)\n",
    "    df['gameid'] = game.headers[\"LichessURL\"]\n",
    "    df['result'] = np.where(game.headers[\"Result\"]=='1-0',1,\n",
    "                                np.where(game.headers[\"Result\"]=='0-1',-1,0))\n",
    "    df = df[10:]\n",
    "    return df"
   ]
  },
  {
   "cell_type": "code",
   "execution_count": null,
   "metadata": {},
   "outputs": [],
   "source": [
    "%%time\n",
    "allgame_df = []\n",
    "for game in tqdm(my_list):\n",
    "    df = delayed(game_to_df)(game)\n",
    "    allgame_df.append(df)"
   ]
  },
  {
   "cell_type": "code",
   "execution_count": null,
   "metadata": {},
   "outputs": [],
   "source": [
    "%%time\n",
    "allgame_df_concat = delayed(pd.concat)(allgame_df)\n",
    "allgame_df_concat.visualize()"
   ]
  },
  {
   "cell_type": "code",
   "execution_count": null,
   "metadata": {},
   "outputs": [],
   "source": [
    "ddf = dd.from_delayed(allgame_df)\n",
    "#ddf = dd.from_pandas(allgame_df,npartitions=1000000)\n",
    "ddf['features'] = ddf[0].apply(get_encoded_board,meta=('I'))\n",
    "ddf.compute()"
   ]
  },
  {
   "cell_type": "code",
   "execution_count": null,
   "metadata": {},
   "outputs": [],
   "source": [
    "def func(df):\n",
    "    return df.features.apply(pd.Series, 1).stack().reset_index(level=1, drop=True)"
   ]
  },
  {
   "cell_type": "code",
   "execution_count": null,
   "metadata": {},
   "outputs": [],
   "source": [
    "feature_array = np.array(ddf.map_partitions(func).compute()).reshape(-1,770)"
   ]
  },
  {
   "cell_type": "code",
   "execution_count": null,
   "metadata": {
    "colab": {
     "base_uri": "https://localhost:8080/"
    },
    "id": "kjlx--BO1PAH",
    "outputId": "86db3273-dc80-4f85-d014-935fb0583547"
   },
   "outputs": [],
   "source": [
    "X = feature_array\n",
    "Y_labels = ddf.compute()['result']\n",
    "print(\"X: \" + str(X.shape))\n",
    "print(\"Y: \" + str(Y_labels.shape))"
   ]
  },
  {
   "cell_type": "code",
   "execution_count": null,
   "metadata": {
    "colab": {
     "base_uri": "https://localhost:8080/"
    },
    "id": "2ogjRrII6GmE",
    "outputId": "c992a25c-0a6a-4a13-e5f2-2ec35bf896c6"
   },
   "outputs": [],
   "source": [
    "%%time\n",
    "from sklearn.neural_network import MLPClassifier\n",
    "from sklearn.model_selection import train_test_split,GridSearchCV\n",
    "X_train, X_test, y_train, y_test = d_train_test_split(\n",
    "    X, Y_labels, train_size = 0.9\n",
    "    ,random_state=1\n",
    ")"
   ]
  },
  {
   "cell_type": "code",
   "execution_count": null,
   "metadata": {},
   "outputs": [],
   "source": [
    "X_train.shape, y_train.shape"
   ]
  },
  {
   "cell_type": "code",
   "execution_count": null,
   "metadata": {
    "colab": {
     "base_uri": "https://localhost:8080/"
    },
    "id": "2ogjRrII6GmE",
    "outputId": "c992a25c-0a6a-4a13-e5f2-2ec35bf896c6"
   },
   "outputs": [],
   "source": [
    "%%time\n",
    "param_grid = {'hidden_layer_sizes':[(50,40,30)]\n",
    "              ,'tol':[0.00001]\n",
    "              ,'activation':['relu','logistic']\n",
    "              ,'max_iter':[2000]\n",
    "#               ,'learning_rate':['constant','invscaling','adaptive']\n",
    "              ,'learning_rate_init':[0.0001]\n",
    "#               ,'early_stopping':[False, True]\n",
    "             }\n",
    "mlp = MLPClassifier()\n",
    "with joblib.parallel_backend('dask'):\n",
    "    clf = GridSearchCV(mlp, param_grid, n_jobs=-1)\n",
    "clf.fit(X_train, y_train)"
   ]
  },
  {
   "cell_type": "code",
   "execution_count": null,
   "metadata": {
    "colab": {
     "base_uri": "https://localhost:8080/"
    },
    "id": "2OLld6xn8gZA",
    "outputId": "b60e25b5-c74a-4759-a057-ae724266fb56"
   },
   "outputs": [],
   "source": [
    "print(clf.score(X_test, y_test))\n",
    "clf.best_estimator_"
   ]
  },
  {
   "cell_type": "code",
   "execution_count": null,
   "metadata": {
    "id": "II2QAEeEBe7V"
   },
   "outputs": [],
   "source": [
    "# clf.predict(X_test)"
   ]
  },
  {
   "cell_type": "code",
   "execution_count": null,
   "metadata": {},
   "outputs": [],
   "source": [
    "from joblib import dump, load\n",
    "dump(clf, 'FinalModel.joblib')  "
   ]
  },
  {
   "cell_type": "code",
   "execution_count": null,
   "metadata": {},
   "outputs": [],
   "source": [
    "clf = load('filename.joblib') \n",
    "clf.classes_"
   ]
  },
  {
   "cell_type": "code",
   "execution_count": null,
   "metadata": {},
   "outputs": [],
   "source": [
    "import torch"
   ]
  },
  {
   "cell_type": "code",
   "execution_count": null,
   "metadata": {},
   "outputs": [],
   "source": [
    "# class Feedforward(torch.nn.Module):\n",
    "#         def __init__(self, input_size, hidden_size):\n",
    "#             super(Feedforward, self).__init__()\n",
    "#             self.input_size = input_size\n",
    "#             self.hidden_size  = hidden_size\n",
    "#             self.fc1 = torch.nn.Linear(self.input_size, self.hidden_size)\n",
    "#             self.relu = torch.nn.ReLU()\n",
    "#             self.fc2 = torch.nn.Linear(self.hidden_size, 1)\n",
    "#             self.sigmoid = torch.nn.Sigmoid()\n",
    "#         def forward(self, x):\n",
    "#             hidden = self.fc1(x)\n",
    "#             relu = self.relu(hidden)\n",
    "#             output = self.fc2(relu)\n",
    "#             output = self.sigmoid(output)\n",
    "#             return output"
   ]
  },
  {
   "cell_type": "code",
   "execution_count": null,
   "metadata": {},
   "outputs": [],
   "source": [
    "# model = Feedforward(770, 100)\n",
    "# criterion = torch.nn.BCELoss()\n",
    "# optimizer = torch.optim.SGD(model.parameters(), lr = 0.01)"
   ]
  },
  {
   "cell_type": "code",
   "execution_count": null,
   "metadata": {},
   "outputs": [],
   "source": [
    "# import tensorflow as tf\n",
    "# X_test_tensor = tf.convert_to_tensor(X_test)"
   ]
  },
  {
   "cell_type": "code",
   "execution_count": null,
   "metadata": {},
   "outputs": [],
   "source": [
    "# model.eval()\n",
    "# y_pred = model(X_test)\n",
    "# before_train = criterion(y_pred.squeeze(), y_test)\n",
    "# print('Test loss before training' , before_train.item())\n"
   ]
  },
  {
   "cell_type": "code",
   "execution_count": null,
   "metadata": {},
   "outputs": [],
   "source": []
  }
 ],
 "metadata": {
  "colab": {
   "name": "Chess_Engine",
   "provenance": []
  },
  "kernelspec": {
   "display_name": "Python 3",
   "language": "python",
   "name": "python3"
  },
  "language_info": {
   "codemirror_mode": {
    "name": "ipython",
    "version": 3
   },
   "file_extension": ".py",
   "mimetype": "text/x-python",
   "name": "python",
   "nbconvert_exporter": "python",
   "pygments_lexer": "ipython3",
   "version": "3.8.8"
  }
 },
 "nbformat": 4,
 "nbformat_minor": 4
}
