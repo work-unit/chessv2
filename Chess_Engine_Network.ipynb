{
 "cells": [
  {
   "cell_type": "code",
   "execution_count": 1,
   "metadata": {
    "colab": {
     "base_uri": "https://localhost:8080/"
    },
    "id": "d1FIxLY--BtT",
    "outputId": "34763dd2-ae69-4891-ea4b-048795092911"
   },
   "outputs": [],
   "source": [
    "import numpy as np\n",
    "import pandas as pd\n",
    "import chess\n",
    "import chess.pgn\n",
    "from ChessFunctions import get_encoded_board, flatten_board\n",
    "from tqdm import tqdm\n",
    "import dask\n",
    "from dask_ml.model_selection import train_test_split as d_train_test_split\n",
    "from dask_ml.model_selection import GridSearchCV as d_GridSearchCV\n",
    "import dask.dataframe as dd\n",
    "import dask.array as da\n",
    "from dask import delayed\n",
    "import joblib"
   ]
  },
  {
   "cell_type": "code",
   "execution_count": 2,
   "metadata": {},
   "outputs": [],
   "source": [
    "GAME_COUNT = 3"
   ]
  },
  {
   "cell_type": "code",
   "execution_count": 3,
   "metadata": {},
   "outputs": [
    {
     "data": {
      "text/html": [
       "<table style=\"border: 2px solid white;\">\n",
       "<tr>\n",
       "<td style=\"vertical-align: top; border: 0px solid white\">\n",
       "<h3 style=\"text-align: left;\">Client</h3>\n",
       "<ul style=\"text-align: left; list-style: none; margin: 0; padding: 0;\">\n",
       "  <li><b>Scheduler: </b>tcp://127.0.0.1:51298</li>\n",
       "  <li><b>Dashboard: </b><a href='http://127.0.0.1:8787/status' target='_blank'>http://127.0.0.1:8787/status</a></li>\n",
       "</ul>\n",
       "</td>\n",
       "<td style=\"vertical-align: top; border: 0px solid white\">\n",
       "<h3 style=\"text-align: left;\">Cluster</h3>\n",
       "<ul style=\"text-align: left; list-style:none; margin: 0; padding: 0;\">\n",
       "  <li><b>Workers: </b>4</li>\n",
       "  <li><b>Cores: </b>8</li>\n",
       "  <li><b>Memory: </b>17.18 GB</li>\n",
       "</ul>\n",
       "</td>\n",
       "</tr>\n",
       "</table>"
      ],
      "text/plain": [
       "<Client: 'tcp://127.0.0.1:51298' processes=4 threads=8, memory=17.18 GB>"
      ]
     },
     "execution_count": 3,
     "metadata": {},
     "output_type": "execute_result"
    }
   ],
   "source": [
    "from dask.distributed import Client, progress\n",
    "client = Client()\n",
    "client"
   ]
  },
  {
   "cell_type": "code",
   "execution_count": 4,
   "metadata": {
    "id": "LLHjm8dR-EMC"
   },
   "outputs": [],
   "source": [
    "f = open('lichess_elite_2020-06.pgn')"
   ]
  },
  {
   "cell_type": "code",
   "execution_count": 5,
   "metadata": {
    "id": "yaGs0GSdACHl"
   },
   "outputs": [
    {
     "name": "stderr",
     "output_type": "stream",
     "text": [
      "100%|██████████| 3/3 [00:00<00:00, 278.44it/s]"
     ]
    },
    {
     "name": "stdout",
     "output_type": "stream",
     "text": [
      "CPU times: user 10.5 ms, sys: 2.51 ms, total: 13 ms\n",
      "Wall time: 13.4 ms\n"
     ]
    },
    {
     "name": "stderr",
     "output_type": "stream",
     "text": [
      "\n"
     ]
    }
   ],
   "source": [
    "%%time \n",
    "my_list = []\n",
    "Y_labels = []\n",
    "for i in tqdm(range(GAME_COUNT)):\n",
    "# while True:\n",
    "    game = chess.pgn.read_game(f)\n",
    "    if game is None:\n",
    "        break  # end of file\n",
    "    my_list.append(game)"
   ]
  },
  {
   "cell_type": "code",
   "execution_count": 6,
   "metadata": {},
   "outputs": [],
   "source": [
    "def game_to_df(game):\n",
    "    #if game.headers['Termination']=='Normal':\n",
    "    board = game.board() \n",
    "    board_state = [flatten_board(board)]\n",
    "    for move in game.mainline_moves():\n",
    "        board.push(move)\n",
    "        board_state = np.row_stack((board_state,flatten_board(board)))\n",
    "    df = pd.DataFrame(board_state)\n",
    "    df['gameid'] = game.headers[\"LichessURL\"]\n",
    "    df['result'] = np.where(game.headers[\"Result\"]=='1-0',1,\n",
    "                                np.where(game.headers[\"Result\"]=='0-1',-1,0))\n",
    "    df = df[10:]\n",
    "    return {'df': df, 'term_type':int(game.headers['Termination']=='Normal')}"
   ]
  },
  {
   "cell_type": "code",
   "execution_count": 7,
   "metadata": {},
   "outputs": [
    {
     "name": "stderr",
     "output_type": "stream",
     "text": [
      "100%|██████████| 3/3 [00:00<00:00, 1240.18it/s]"
     ]
    },
    {
     "name": "stdout",
     "output_type": "stream",
     "text": [
      "CPU times: user 2.42 ms, sys: 1.82 ms, total: 4.24 ms\n",
      "Wall time: 4.12 ms\n"
     ]
    },
    {
     "name": "stderr",
     "output_type": "stream",
     "text": [
      "\n"
     ]
    }
   ],
   "source": [
    "%%time\n",
    "allgame_df = []\n",
    "game_terminations = []\n",
    "for game in tqdm(my_list):\n",
    "    df = delayed(game_to_df)(game)\n",
    "    allgame_df.append(df['df'])\n",
    "    game_terminations.append(df['term_type'])\n",
    "    "
   ]
  },
  {
   "cell_type": "code",
   "execution_count": 8,
   "metadata": {},
   "outputs": [
    {
     "data": {
      "text/html": [
       "<div>\n",
       "<style scoped>\n",
       "    .dataframe tbody tr th:only-of-type {\n",
       "        vertical-align: middle;\n",
       "    }\n",
       "\n",
       "    .dataframe tbody tr th {\n",
       "        vertical-align: top;\n",
       "    }\n",
       "\n",
       "    .dataframe thead th {\n",
       "        text-align: right;\n",
       "    }\n",
       "</style>\n",
       "<table border=\"1\" class=\"dataframe\">\n",
       "  <thead>\n",
       "    <tr style=\"text-align: right;\">\n",
       "      <th></th>\n",
       "      <th>0</th>\n",
       "      <th>gameid</th>\n",
       "      <th>result</th>\n",
       "    </tr>\n",
       "  </thead>\n",
       "  <tbody>\n",
       "    <tr>\n",
       "      <th>10</th>\n",
       "      <td>rnbqk..rppp.nppp....p......pP......P....P.b......</td>\n",
       "      <td>https://lichess.org/kuUOsOML</td>\n",
       "      <td>0</td>\n",
       "    </tr>\n",
       "    <tr>\n",
       "      <th>11</th>\n",
       "      <td>rnbqk..rppp.nppp....p......pP......P....P.P......</td>\n",
       "      <td>https://lichess.org/kuUOsOML</td>\n",
       "      <td>0</td>\n",
       "    </tr>\n",
       "    <tr>\n",
       "      <th>12</th>\n",
       "      <td>rnbqk..rpp..nppp....p.....ppP......P....P.P......</td>\n",
       "      <td>https://lichess.org/kuUOsOML</td>\n",
       "      <td>0</td>\n",
       "    </tr>\n",
       "    <tr>\n",
       "      <th>13</th>\n",
       "      <td>rnbqk..rpp..nppp....p.....ppP......P..Q.P.P......</td>\n",
       "      <td>https://lichess.org/kuUOsOML</td>\n",
       "      <td>0</td>\n",
       "    </tr>\n",
       "    <tr>\n",
       "      <th>14</th>\n",
       "      <td>rnb.k..rppq.nppp....p.....ppP......P..Q.P.P......</td>\n",
       "      <td>https://lichess.org/kuUOsOML</td>\n",
       "      <td>0</td>\n",
       "    </tr>\n",
       "  </tbody>\n",
       "</table>\n",
       "</div>"
      ],
      "text/plain": [
       "                                                    0  \\\n",
       "10  rnbqk..rppp.nppp....p......pP......P....P.b......   \n",
       "11  rnbqk..rppp.nppp....p......pP......P....P.P......   \n",
       "12  rnbqk..rpp..nppp....p.....ppP......P....P.P......   \n",
       "13  rnbqk..rpp..nppp....p.....ppP......P..Q.P.P......   \n",
       "14  rnb.k..rppq.nppp....p.....ppP......P..Q.P.P......   \n",
       "\n",
       "                          gameid  result  \n",
       "10  https://lichess.org/kuUOsOML       0  \n",
       "11  https://lichess.org/kuUOsOML       0  \n",
       "12  https://lichess.org/kuUOsOML       0  \n",
       "13  https://lichess.org/kuUOsOML       0  \n",
       "14  https://lichess.org/kuUOsOML       0  "
      ]
     },
     "metadata": {},
     "output_type": "display_data"
    },
    {
     "data": {
      "image/png": "[encoded data removed]",
      "text/plain": [
       "<IPython.core.display.Image object>"
      ]
     },
     "metadata": {},
     "output_type": "display_data"
    },
    {
     "name": "stdout",
     "output_type": "stream",
     "text": [
      "CPU times: user 50.2 ms, sys: 22.9 ms, total: 73.1 ms\n",
      "Wall time: 1.21 s\n"
     ]
    }
   ],
   "source": [
    "%%time\n",
    "allgame_df_concat = delayed(pd.concat)(allgame_df)\n",
    "display(allgame_df_concat.compute().head())\n",
    "\n",
    "if GAME_COUNT < 20:\n",
    "    display(allgame_df_concat.visualize())"
   ]
  },
  {
   "cell_type": "code",
   "execution_count": 9,
   "metadata": {},
   "outputs": [],
   "source": [
    "ddf = dd.from_delayed(allgame_df)\n",
    "ddf['features'] = ddf[0].apply(get_encoded_board,meta=('I'))"
   ]
  },
  {
   "cell_type": "code",
   "execution_count": 10,
   "metadata": {},
   "outputs": [
    {
     "data": {
      "text/plain": [
       "array([[ 1,  0,  0, ...,  0, 39, 36],\n",
       "       [ 1,  0,  0, ...,  0, 36, 36],\n",
       "       [ 1,  0,  0, ...,  0, 36, 36],\n",
       "       ...,\n",
       "       [ 0,  0,  0, ...,  0,  1,  1],\n",
       "       [ 0,  0,  0, ...,  0,  1,  0],\n",
       "       [ 0,  0,  0, ...,  0,  0,  0]])"
      ]
     },
     "metadata": {},
     "output_type": "display_data"
    },
    {
     "name": "stdout",
     "output_type": "stream",
     "text": [
      "(209, 770)\n"
     ]
    }
   ],
   "source": [
    "def func(df):\n",
    "    return df.features.apply(np.array, 1)\n",
    "\n",
    "feature_array = np.concatenate(np.array(ddf.map_partitions(func).compute())).reshape(-1,770)\n",
    "display(feature_array)\n",
    "print(feature_array.shape)"
   ]
  },
  {
   "cell_type": "markdown",
   "metadata": {},
   "source": [
    "def func(df):\n",
    "    return df.features.apply(pd.Series, 1).stack().reset_index(level=1, drop=True)"
   ]
  },
  {
   "cell_type": "code",
   "execution_count": 11,
   "metadata": {
    "colab": {
     "base_uri": "https://localhost:8080/"
    },
    "id": "kjlx--BO1PAH",
    "outputId": "86db3273-dc80-4f85-d014-935fb0583547"
   },
   "outputs": [
    {
     "name": "stdout",
     "output_type": "stream",
     "text": [
      "X: (209, 770)\n",
      "Y: (209,)\n"
     ]
    }
   ],
   "source": [
    "X = feature_array\n",
    "Y_labels = ddf.compute()['result']\n",
    "print(\"X: \" + str(X.shape))\n",
    "print(\"Y: \" + str(Y_labels.shape))"
   ]
  },
  {
   "cell_type": "code",
   "execution_count": 12,
   "metadata": {
    "colab": {
     "base_uri": "https://localhost:8080/"
    },
    "id": "2ogjRrII6GmE",
    "outputId": "c992a25c-0a6a-4a13-e5f2-2ec35bf896c6"
   },
   "outputs": [
    {
     "name": "stdout",
     "output_type": "stream",
     "text": [
      "CPU times: user 6.39 ms, sys: 4.5 ms, total: 10.9 ms\n",
      "Wall time: 11.3 ms\n"
     ]
    }
   ],
   "source": [
    "%%time\n",
    "from sklearn.neural_network import MLPClassifier\n",
    "from sklearn.model_selection import train_test_split,GridSearchCV\n",
    "X_train, X_test, y_train, y_test = d_train_test_split(\n",
    "    X, Y_labels, train_size = 0.9\n",
    "    ,random_state=1\n",
    ")"
   ]
  },
  {
   "cell_type": "code",
   "execution_count": null,
   "metadata": {},
   "outputs": [],
   "source": [
    "X_train.shape, y_train.shape"
   ]
  },
  {
   "cell_type": "code",
   "execution_count": null,
   "metadata": {
    "colab": {
     "base_uri": "https://localhost:8080/"
    },
    "id": "2ogjRrII6GmE",
    "outputId": "c992a25c-0a6a-4a13-e5f2-2ec35bf896c6"
   },
   "outputs": [],
   "source": [
    "%%time\n",
    "param_grid = {'hidden_layer_sizes':[(50,40,30)]\n",
    "              ,'tol':[0.00001]\n",
    "              ,'activation':['relu','logistic']\n",
    "              ,'max_iter':[2000]\n",
    "#               ,'learning_rate':['constant','invscaling','adaptive']\n",
    "              ,'learning_rate_init':[0.0001]\n",
    "#               ,'early_stopping':[False, True]\n",
    "             }\n",
    "mlp = MLPClassifier()\n",
    "with joblib.parallel_backend('dask'):\n",
    "    clf = GridSearchCV(mlp, param_grid, n_jobs=-1)\n",
    "clf.fit(X_train, y_train)"
   ]
  },
  {
   "cell_type": "code",
   "execution_count": null,
   "metadata": {
    "colab": {
     "base_uri": "https://localhost:8080/"
    },
    "id": "2OLld6xn8gZA",
    "outputId": "b60e25b5-c74a-4759-a057-ae724266fb56"
   },
   "outputs": [],
   "source": [
    "print(clf.score(X_test, y_test))\n",
    "clf.best_estimator_"
   ]
  },
  {
   "cell_type": "code",
   "execution_count": null,
   "metadata": {},
   "outputs": [],
   "source": [
    "from joblib import dump, load\n",
    "dump(clf, 'FinalModel.joblib')  "
   ]
  },
  {
   "cell_type": "code",
   "execution_count": null,
   "metadata": {},
   "outputs": [],
   "source": [
    "clf = load('filename.joblib') \n",
    "clf.classes_"
   ]
  }
 ],
 "metadata": {
  "colab": {
   "name": "Chess_Engine",
   "provenance": []
  },
  "kernelspec": {
   "display_name": "Python 3",
   "language": "python",
   "name": "python3"
  },
  "language_info": {
   "codemirror_mode": {
    "name": "ipython",
    "version": 3
   },
   "file_extension": ".py",
   "mimetype": "text/x-python",
   "name": "python",
   "nbconvert_exporter": "python",
   "pygments_lexer": "ipython3",
   "version": "3.8.8"
  }
 },
 "nbformat": 4,
 "nbformat_minor": 4
}
