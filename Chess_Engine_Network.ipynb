{
 "cells": [
  {
   "cell_type": "markdown",
   "metadata": {},
   "source": [
    "# Creating a Chess Engine Using Dask\n",
    "### Importing dependencies"
   ]
  },
  {
   "cell_type": "code",
   "execution_count": null,
   "metadata": {
    "colab": {
     "base_uri": "https://localhost:8080/"
    },
    "id": "d1FIxLY--BtT",
    "outputId": "34763dd2-ae69-4891-ea4b-048795092911"
   },
   "outputs": [],
   "source": [
    "import numpy as np\n",
    "import pandas as pd\n",
    "import chess\n",
    "import chess.pgn\n",
    "from ChessFunctions import get_encoded_board, flatten_board\n",
    "from tqdm import tqdm\n",
    "import dask\n",
    "from dask_ml.model_selection import train_test_split as d_train_test_split\n",
    "from dask_ml.model_selection import GridSearchCV as d_GridSearchCV\n",
    "from sklearn.neural_network import MLPClassifier\n",
    "import dask.dataframe as dd\n",
    "import dask.array as da\n",
    "from dask import delayed\n",
    "import joblib"
   ]
  },
  {
   "cell_type": "markdown",
   "metadata": {},
   "source": [
    "### Setting the number of games we will be using to train our chess engine"
   ]
  },
  {
   "cell_type": "code",
   "execution_count": null,
   "metadata": {},
   "outputs": [],
   "source": [
    "GAME_COUNT = 4000"
   ]
  },
  {
   "cell_type": "markdown",
   "metadata": {},
   "source": [
    "### Instantiating a dask client"
   ]
  },
  {
   "cell_type": "code",
   "execution_count": null,
   "metadata": {},
   "outputs": [],
   "source": [
    "from dask.distributed import Client, progress\n",
    "client = Client()\n",
    "client"
   ]
  },
  {
   "cell_type": "markdown",
   "metadata": {},
   "source": [
    "## Reading in the games from the .pgn file"
   ]
  },
  {
   "cell_type": "code",
   "execution_count": null,
   "metadata": {
    "id": "LLHjm8dR-EMC"
   },
   "outputs": [],
   "source": [
    "f = open('lichess_elite_2020-06.pgn')"
   ]
  },
  {
   "cell_type": "code",
   "execution_count": null,
   "metadata": {
    "id": "yaGs0GSdACHl"
   },
   "outputs": [],
   "source": [
    "%%time \n",
    "my_list = []\n",
    "Y_labels = []\n",
    "for i in tqdm(range(GAME_COUNT)):\n",
    "# while True:\n",
    "    game = chess.pgn.read_game(f)\n",
    "    if game is None:\n",
    "        break  # end of file\n",
    "    my_list.append(game)"
   ]
  },
  {
   "cell_type": "markdown",
   "metadata": {},
   "source": [
    "## Flattening Game States"
   ]
  },
  {
   "cell_type": "code",
   "execution_count": null,
   "metadata": {},
   "outputs": [],
   "source": [
    "def game_to_df(game):\n",
    "    \"\"\"\n",
    "    Takes a game from a .pgn file and converts every \n",
    "    board state into a flattened string. Returns a \n",
    "    dataframe with columns '0','gameid', and 'result'.\n",
    "    '0' is the column of all flattened board states \n",
    "    achieved in the game. 'Result' is the result of the game\n",
    "    where 1 means white won, 0 means a draw, and -1 means \n",
    "    white lost.\n",
    "    \"\"\"\n",
    "    board = game.board() \n",
    "    board_state = [flatten_board(board)]\n",
    "    for move in game.mainline_moves():\n",
    "        board.push(move)\n",
    "        board_state = np.row_stack((board_state,flatten_board(board)))\n",
    "    df = pd.DataFrame(board_state)\n",
    "    df['gameid'] = game.headers[\"LichessURL\"]\n",
    "    df['result'] = np.where(game.headers[\"Result\"]=='1-0',1,\n",
    "                                np.where(game.headers[\"Result\"]=='0-1',-1,0))\n",
    "    df = df[10:]\n",
    "    return {'df': df, 'term_type':int(game.headers['Termination']=='Normal')}"
   ]
  },
  {
   "cell_type": "markdown",
   "metadata": {},
   "source": [
    "### Looping over all games and applying the `game_to_df` function. This utilizes the `@dask.delayed` decorator to ensure lazy evalution."
   ]
  },
  {
   "cell_type": "code",
   "execution_count": null,
   "metadata": {},
   "outputs": [],
   "source": [
    "%%time\n",
    "allgame_df = []\n",
    "game_terminations = []\n",
    "for game in tqdm(my_list):\n",
    "    df = delayed(game_to_df)(game)\n",
    "    allgame_df.append(df['df'])\n",
    "    game_terminations.append(df['term_type'])\n",
    "    "
   ]
  },
  {
   "cell_type": "markdown",
   "metadata": {},
   "source": [
    "### Combining every game dataframe into a single dataframe."
   ]
  },
  {
   "cell_type": "code",
   "execution_count": null,
   "metadata": {},
   "outputs": [],
   "source": [
    "%%time\n",
    "allgame_df_concat = delayed(pd.concat)(allgame_df)\n",
    "display(allgame_df_concat.compute().head())"
   ]
  },
  {
   "cell_type": "markdown",
   "metadata": {},
   "source": [
    "### Use custom function from the included ChessFuncitons.py file to apply one-hot encoding of board states. Also adds two features that represent the value of the pieces on the chess board for both white and black.\n",
    "\n",
    "Uses a dask dataframe so we can apply the one hot encoding to each partition in parallel."
   ]
  },
  {
   "cell_type": "code",
   "execution_count": null,
   "metadata": {},
   "outputs": [],
   "source": [
    "ddf = dd.from_delayed(allgame_df)\n",
    "ddf['features'] = ddf[0].apply(get_encoded_board,meta=('I'))"
   ]
  },
  {
   "cell_type": "code",
   "execution_count": null,
   "metadata": {},
   "outputs": [],
   "source": [
    "def func(df):\n",
    "    return df.features.apply(np.array, 1)\n",
    "\n",
    "feature_array = np.concatenate(np.array(ddf.map_partitions(func).compute())).reshape(-1,770)\n",
    "display(feature_array)\n",
    "print('\\n Shape of feature array: ' + str(feature_array.shape))"
   ]
  },
  {
   "cell_type": "code",
   "execution_count": null,
   "metadata": {
    "colab": {
     "base_uri": "https://localhost:8080/"
    },
    "id": "kjlx--BO1PAH",
    "outputId": "86db3273-dc80-4f85-d014-935fb0583547"
   },
   "outputs": [],
   "source": [
    "X = feature_array\n",
    "Y_labels = ddf.compute()['result']\n",
    "print(\"X shape: \" + str(X.shape))\n",
    "print(\"Y shape: \" + str(Y_labels.shape))"
   ]
  },
  {
   "cell_type": "markdown",
   "metadata": {},
   "source": [
    "### Train-Test splitting our data and targets"
   ]
  },
  {
   "cell_type": "code",
   "execution_count": null,
   "metadata": {
    "colab": {
     "base_uri": "https://localhost:8080/"
    },
    "id": "2ogjRrII6GmE",
    "outputId": "c992a25c-0a6a-4a13-e5f2-2ec35bf896c6"
   },
   "outputs": [],
   "source": [
    "%%time\n",
    "X_train, X_test, y_train, y_test = d_train_test_split(\n",
    "    X, Y_labels, train_size = 0.9\n",
    "    ,random_state=1\n",
    ")\n",
    "\n",
    "print(\"Size of training data: \" + str(X_train.shape[0]))\n",
    "print(\"Size of testing data: \" + str(X_test.shape[0]))\n",
    "print('\\n')\n"
   ]
  },
  {
   "cell_type": "markdown",
   "metadata": {},
   "source": [
    "## Training the neural network\n",
    "The idea here is that we can predict whether a board state is winning, losing, or drawing."
   ]
  },
  {
   "cell_type": "code",
   "execution_count": null,
   "metadata": {
    "colab": {
     "base_uri": "https://localhost:8080/"
    },
    "id": "2ogjRrII6GmE",
    "outputId": "c992a25c-0a6a-4a13-e5f2-2ec35bf896c6"
   },
   "outputs": [],
   "source": [
    "%%time\n",
    "param_grid = {'hidden_layer_sizes':[(50,40,30), (100,50), (10,10,10,10)]\n",
    "              ,'tol':[0.00001]\n",
    "              ,'activation':['relu','logistic']\n",
    "              ,'max_iter':[2000]\n",
    "              ,'learning_rate_init':[0.0001, 0.001]\n",
    "             }\n",
    "mlp = MLPClassifier()\n",
    "with joblib.parallel_backend('dask'):\n",
    "    clf = d_GridSearchCV(mlp, param_grid, n_jobs=-1)\n",
    "clf.fit(X_train, y_train)"
   ]
  },
  {
   "cell_type": "markdown",
   "metadata": {},
   "source": [
    "### Evaluating the model on the test dataset"
   ]
  },
  {
   "cell_type": "code",
   "execution_count": null,
   "metadata": {
    "colab": {
     "base_uri": "https://localhost:8080/"
    },
    "id": "2OLld6xn8gZA",
    "outputId": "b60e25b5-c74a-4759-a057-ae724266fb56"
   },
   "outputs": [],
   "source": [
    "print(clf.score(X_test, y_test))\n",
    "clf.best_estimator_"
   ]
  },
  {
   "cell_type": "markdown",
   "metadata": {},
   "source": [
    "### Exporting the trained model "
   ]
  },
  {
   "cell_type": "code",
   "execution_count": null,
   "metadata": {},
   "outputs": [],
   "source": [
    "from joblib import dump, load\n",
    "dump(clf, 'ChessModel.joblib')  "
   ]
  },
  {
   "cell_type": "markdown",
   "metadata": {},
   "source": [
    "### Closing the dask client"
   ]
  },
  {
   "cell_type": "code",
   "execution_count": null,
   "metadata": {},
   "outputs": [],
   "source": [
    "client.close()"
   ]
  },
  {
   "cell_type": "code",
   "execution_count": null,
   "metadata": {},
   "outputs": [],
   "source": []
  }
 ],
 "metadata": {
  "colab": {
   "name": "Chess_Engine",
   "provenance": []
  },
  "kernelspec": {
   "display_name": "Python 3",
   "language": "python",
   "name": "python3"
  },
  "language_info": {
   "codemirror_mode": {
    "name": "ipython",
    "version": 3
   },
   "file_extension": ".py",
   "mimetype": "text/x-python",
   "name": "python",
   "nbconvert_exporter": "python",
   "pygments_lexer": "ipython3",
   "version": "3.8.5"
  }
 },
 "nbformat": 4,
 "nbformat_minor": 4
}
